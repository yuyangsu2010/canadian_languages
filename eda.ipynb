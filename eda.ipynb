{
 "cells": [
  {
   "cell_type": "code",
   "execution_count": 1,
   "id": "4c98b50f-8f9e-477f-b9e4-ebbc17348964",
   "metadata": {},
   "outputs": [],
   "source": [
    "# let's make some changes for staging purposes"
   ]
  },
  {
   "cell_type": "code",
   "execution_count": 2,
   "id": "abc159c7-e12c-49d5-a100-76eca4737913",
   "metadata": {},
   "outputs": [],
   "source": [
    "# let's make more changes for git add -p"
   ]
  },
  {
   "cell_type": "code",
   "execution_count": null,
   "id": "b3830aea-7221-43cb-9fe6-b153cb9edc16",
   "metadata": {},
   "outputs": [],
   "source": []
  }
 ],
 "metadata": {
  "kernelspec": {
   "display_name": "Python 3 (ipykernel)",
   "language": "python",
   "name": "python3"
  },
  "language_info": {
   "codemirror_mode": {
    "name": "ipython",
    "version": 3
   },
   "file_extension": ".py",
   "mimetype": "text/x-python",
   "name": "python",
   "nbconvert_exporter": "python",
   "pygments_lexer": "ipython3",
   "version": "3.12.2"
  }
 },
 "nbformat": 4,
 "nbformat_minor": 5
}
